{
 "cells": [
  {
   "cell_type": "markdown",
   "id": "9d1aa676",
   "metadata": {},
   "source": [
    "# 🔧 Tool: sql\n",
    "\n",
    "**Dataset:** titanic\n",
    "**난이도:** 하\n",
    "\n",
    "**Q.** 성별별 승객 수를 출력하는 SELECT 쿼리를 작성하세요."
   ]
  },
  {
   "cell_type": "code",
   "execution_count": null,
   "id": "b8c277ee",
   "metadata": {},
   "outputs": [],
   "source": [
    "import seaborn as sns\n",
    "import pandas as pd\n",
    "dataset = sns.load_dataset(\"titanic\")\n",
    "dataset.head(1)"
   ]
  },
  {
   "cell_type": "markdown",
   "id": "9f055ded",
   "metadata": {},
   "source": [
    "# 🔧 Tool: sql\n",
    "\n",
    "**Dataset:** tips\n",
    "**난이도:** 중하\n",
    "\n",
    "**Q.** Survived 열에 따라 승객의 수를 카운트하세요."
   ]
  },
  {
   "cell_type": "code",
   "execution_count": null,
   "id": "56286c3e",
   "metadata": {},
   "outputs": [],
   "source": [
    "import seaborn as sns\n",
    "import pandas as pd\n",
    "dataset = sns.load_dataset(\"tips\")\n",
    "dataset.head(1)"
   ]
  },
  {
   "cell_type": "markdown",
   "id": "462f385e",
   "metadata": {},
   "source": [
    "# 🔧 Tool: sql\n",
    "\n",
    "**Dataset:** tips\n",
    "**난이도:** 하\n",
    "\n",
    "**Q.** 성별별 승객 수를 출력하는 SELECT 쿼리를 작성하세요."
   ]
  },
  {
   "cell_type": "code",
   "execution_count": null,
   "id": "1f25b088",
   "metadata": {},
   "outputs": [],
   "source": [
    "import seaborn as sns\n",
    "import pandas as pd\n",
    "dataset = sns.load_dataset(\"tips\")\n",
    "dataset.head(1)"
   ]
  },
  {
   "cell_type": "markdown",
   "id": "6c7df0fa",
   "metadata": {},
   "source": [
    "# 🔧 Tool: sql\n",
    "\n",
    "**Dataset:** tips\n",
    "**난이도:** 중\n",
    "\n",
    "**Q.** 성별별 생존율을 구하세요."
   ]
  },
  {
   "cell_type": "code",
   "execution_count": null,
   "id": "30f0a17b",
   "metadata": {},
   "outputs": [],
   "source": [
    "import seaborn as sns\n",
    "import pandas as pd\n",
    "dataset = sns.load_dataset(\"tips\")\n",
    "dataset.head(1)"
   ]
  },
  {
   "cell_type": "markdown",
   "id": "6678e483",
   "metadata": {},
   "source": [
    "# 🔧 Tool: sql\n",
    "\n",
    "**Dataset:** 칼럼 제거\n",
    "**난이도:** 하\n",
    "\n",
    "**Q.** 성별을 제외한 열을 출력하세요."
   ]
  },
  {
   "cell_type": "code",
   "execution_count": null,
   "id": "f1125647",
   "metadata": {},
   "outputs": [],
   "source": [
    "import seaborn as sns\n",
    "import pandas as pd\n",
    "dataset = sns.load_dataset(\"칼럼 제거\")\n",
    "dataset.head(1)"
   ]
  },
  {
   "cell_type": "markdown",
   "id": "16e68571",
   "metadata": {},
   "source": [
    "# 🔧 Tool: sql\n",
    "\n",
    "**Dataset:** 묵시적 형 변환\n",
    "**난이도:** 중하\n",
    "\n",
    "**Q.** 성별을 숫자로 변환하여 출력하세요."
   ]
  },
  {
   "cell_type": "code",
   "execution_count": null,
   "id": "6001e981",
   "metadata": {},
   "outputs": [],
   "source": [
    "import seaborn as sns\n",
    "import pandas as pd\n",
    "dataset = sns.load_dataset(\"묵시적 형 변환\")\n",
    "dataset.head(1)"
   ]
  },
  {
   "cell_type": "markdown",
   "id": "50026fd3",
   "metadata": {},
   "source": [
    "# 🔧 Tool: sql\n",
    "\n",
    "**Dataset:** penguins\n",
    "**난이도:** 하\n",
    "\n",
    "**Q.** 인른의 몸무게가 5000g 이하인"
   ]
  },
  {
   "cell_type": "code",
   "execution_count": null,
   "id": "47b0df25",
   "metadata": {},
   "outputs": [],
   "source": [
    "import seaborn as sns\n",
    "import pandas as pd\n",
    "dataset = sns.load_dataset(\"penguins\")\n",
    "dataset.head(1)"
   ]
  },
  {
   "cell_type": "markdown",
   "id": "f17e4a5c",
   "metadata": {},
   "source": [
    "# 🔧 Tool: sql\n",
    "\n",
    "**Dataset:** tips\n",
    "**난이도:** 하\n",
    "\n",
    "**Q.** 칵테일 바에서 가장 저렴한 음료는 무엇입니까? 가격이 가장 낮은 음료의 이름과 가격을 출력하세요."
   ]
  },
  {
   "cell_type": "code",
   "execution_count": null,
   "id": "a188b4d8",
   "metadata": {},
   "outputs": [],
   "source": [
    "import seaborn as sns\n",
    "import pandas as pd\n",
    "dataset = sns.load_dataset(\"tips\")\n",
    "dataset.head(1)"
   ]
  },
  {
   "cell_type": "markdown",
   "id": "8c110b8e",
   "metadata": {},
   "source": [
    "# 🔧 Tool: sql\n",
    "\n",
    "**Dataset:** tips\n",
    "**난이도:** 중하\n",
    "\n",
    "**Q.** 칵테일 바의 기본 투팍을 찾는 데 사용되는 재료는 무엇입니까? 해당 정보는 기본투팍에서 찾을 수 있습니다."
   ]
  },
  {
   "cell_type": "code",
   "execution_count": null,
   "id": "b8cf54ad",
   "metadata": {},
   "outputs": [],
   "source": [
    "import seaborn as sns\n",
    "import pandas as pd\n",
    "dataset = sns.load_dataset(\"tips\")\n",
    "dataset.head(1)"
   ]
  }
 ],
 "metadata": {},
 "nbformat": 4,
 "nbformat_minor": 5
}
