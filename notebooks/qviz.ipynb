{
 "cells": [
  {
   "cell_type": "markdown",
   "id": "67da07ac",
   "metadata": {},
   "source": [
    "# 🔧 Tool: viz\n",
    "\n",
    "**Dataset:** 카테고리\n",
    "**난이도:** 하\n",
    "\n",
    "**Q.** 성별을 확인한 후, 각 성별에 해당하는 생존자와 사망자의 수를 카운트하세요."
   ]
  },
  {
   "cell_type": "code",
   "execution_count": null,
   "id": "65fffbce",
   "metadata": {},
   "outputs": [],
   "source": [
    "import seaborn as sns\n",
    "import pandas as pd\n",
    "dataset = sns.load_dataset(\"카테고리\")\n",
    "dataset.head(1)"
   ]
  },
  {
   "cell_type": "markdown",
   "id": "a65a4fe6",
   "metadata": {},
   "source": [
    "# 🔧 Tool: viz\n",
    "\n",
    "**Dataset:** 요약 통계\n",
    "**난이도:** 중상\n",
    "\n",
    "**Q.** Survived와 Pclass에 따라 승객의 수를 구하세요."
   ]
  },
  {
   "cell_type": "code",
   "execution_count": null,
   "id": "c9393432",
   "metadata": {},
   "outputs": [],
   "source": [
    "import seaborn as sns\n",
    "import pandas as pd\n",
    "dataset = sns.load_dataset(\"요약 통계\")\n",
    "dataset.head(1)"
   ]
  },
  {
   "cell_type": "markdown",
   "id": "c43c2ed3",
   "metadata": {},
   "source": [
    "# 🔧 Tool: viz\n",
    "\n",
    "**Dataset:** tips\n",
    "**난이도:** 하\n",
    "\n",
    "**Q.** 결측값이 있는 행을 제거하세요."
   ]
  },
  {
   "cell_type": "code",
   "execution_count": null,
   "id": "0baf9565",
   "metadata": {},
   "outputs": [],
   "source": [
    "import seaborn as sns\n",
    "import pandas as pd\n",
    "dataset = sns.load_dataset(\"tips\")\n",
    "dataset.head(1)"
   ]
  },
  {
   "cell_type": "markdown",
   "id": "09d9916b",
   "metadata": {},
   "source": [
    "# 🔧 Tool: viz\n",
    "\n",
    "**Dataset:** tips\n",
    "**난이도:** 중상\n",
    "\n",
    "**Q.** 성별별 생존율을 구하세요."
   ]
  },
  {
   "cell_type": "code",
   "execution_count": null,
   "id": "a0abb492",
   "metadata": {},
   "outputs": [],
   "source": [
    "import seaborn as sns\n",
    "import pandas as pd\n",
    "dataset = sns.load_dataset(\"tips\")\n",
    "dataset.head(1)"
   ]
  },
  {
   "cell_type": "markdown",
   "id": "1c17d617",
   "metadata": {},
   "source": [
    "# 🔧 Tool: viz\n",
    "\n",
    "**Dataset:** tips\n",
    "**난이도:** 하\n",
    "\n",
    "**Q.** 결측값이 있는 행을 제거하세요."
   ]
  },
  {
   "cell_type": "code",
   "execution_count": null,
   "id": "2a93ec59",
   "metadata": {},
   "outputs": [],
   "source": [
    "import seaborn as sns\n",
    "import pandas as pd\n",
    "dataset = sns.load_dataset(\"tips\")\n",
    "dataset.head(1)"
   ]
  },
  {
   "cell_type": "markdown",
   "id": "c1836b15",
   "metadata": {},
   "source": [
    "# 🔧 Tool: viz\n",
    "\n",
    "**Dataset:** tips\n",
    "**난이도:** 상\n",
    "\n",
    "**Q.** 성별별 평균 팁 금액을 구하세요."
   ]
  },
  {
   "cell_type": "code",
   "execution_count": null,
   "id": "ea1c1a36",
   "metadata": {},
   "outputs": [],
   "source": [
    "import seaborn as sns\n",
    "import pandas as pd\n",
    "dataset = sns.load_dataset(\"tips\")\n",
    "dataset.head(1)"
   ]
  },
  {
   "cell_type": "markdown",
   "id": "98fb02aa",
   "metadata": {},
   "source": [
    "# 🔧 Tool: viz\n",
    "\n",
    "**Dataset:** penguins\n",
    "**난이도:** 하\n",
    "\n",
    "**Q.** 아델리펭귄, 왕펭귄, 갈가리펭귄 등의 스펭스종별 인구 분포를 분석하여, 가장 풍부한 스펭스종을 구하세요."
   ]
  },
  {
   "cell_type": "code",
   "execution_count": null,
   "id": "47c88c59",
   "metadata": {},
   "outputs": [],
   "source": [
    "import seaborn as sns\n",
    "import pandas as pd\n",
    "dataset = sns.load_dataset(\"penguins\")\n",
    "dataset.head(1)"
   ]
  },
  {
   "cell_type": "markdown",
   "id": "5ba4ad5f",
   "metadata": {},
   "source": [
    "# 🔧 Tool: viz\n",
    "\n",
    "**Dataset:** penguins\n",
    "**난이도:** 중상\n",
    "\n",
    "**Q.** 펭귄의 몸무게,翼Span, 비둘기 등 3개의 변수에 대한 상관관계 분석을 수행하여, 가장 강한 상관관계를 보여주는 변수를 구하세요. 추가적으로, 이 변수와 관련된 펭귄의 특징을 설명해주세요."
   ]
  },
  {
   "cell_type": "code",
   "execution_count": null,
   "id": "4443e36a",
   "metadata": {},
   "outputs": [],
   "source": [
    "import seaborn as sns\n",
    "import pandas as pd\n",
    "dataset = sns.load_dataset(\"penguins\")\n",
    "dataset.head(1)"
   ]
  },
  {
   "cell_type": "markdown",
   "id": "20e1d740",
   "metadata": {},
   "source": [
    "# 🔧 Tool: viz\n",
    "\n",
    "**Dataset:** tips\n",
    "**난이도:** 하\n",
    "\n",
    "**Q.** What is the relationship between the total bill and tip percentage in the tips dataset?"
   ]
  },
  {
   "cell_type": "code",
   "execution_count": null,
   "id": "008861ec",
   "metadata": {},
   "outputs": [],
   "source": [
    "import seaborn as sns\n",
    "import pandas as pd\n",
    "dataset = sns.load_dataset(\"tips\")\n",
    "dataset.head(1)"
   ]
  },
  {
   "cell_type": "markdown",
   "id": "8bfa1707",
   "metadata": {},
   "source": [
    "# 🔧 Tool: viz\n",
    "\n",
    "**Dataset:** tips\n",
    "**난이도:** 중하\n",
    "\n",
    "**Q.** What factors contribute to the likelihood of a customer leaving a large tip (≥ 20%) in the tips dataset?"
   ]
  },
  {
   "cell_type": "code",
   "execution_count": null,
   "id": "1a8fad3a",
   "metadata": {},
   "outputs": [],
   "source": [
    "import seaborn as sns\n",
    "import pandas as pd\n",
    "dataset = sns.load_dataset(\"tips\")\n",
    "dataset.head(1)"
   ]
  },
  {
   "cell_type": "markdown",
   "id": "a7dcc369",
   "metadata": {},
   "source": [
    "# 🔧 Tool: viz\n",
    "\n",
    "**Dataset:** \n",
    "**난이도:** `). I also mapped the difficulty level in the correct order (하, 중하, 중상).\n",
    "\n",
    "**Q.** "
   ]
  },
  {
   "cell_type": "code",
   "execution_count": null,
   "id": "a90c5eed",
   "metadata": {},
   "outputs": [],
   "source": [
    "import seaborn as sns\n",
    "import pandas as pd\n",
    "dataset = sns.load_dataset(\"\")\n",
    "dataset.head(1)"
   ]
  }
 ],
 "metadata": {},
 "nbformat": 4,
 "nbformat_minor": 5
}
